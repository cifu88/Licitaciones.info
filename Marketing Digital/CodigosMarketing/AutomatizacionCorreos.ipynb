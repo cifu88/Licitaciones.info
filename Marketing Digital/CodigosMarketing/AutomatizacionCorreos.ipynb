{
 "cells": [
  {
   "cell_type": "markdown",
   "metadata": {},
   "source": [
    "TERMINADO!!!"
   ]
  },
  {
   "cell_type": "markdown",
   "metadata": {},
   "source": [
    "LIBRERIAS"
   ]
  },
  {
   "cell_type": "code",
   "execution_count": 1,
   "metadata": {},
   "outputs": [],
   "source": [
    "import pandas as pd"
   ]
  },
  {
   "cell_type": "markdown",
   "metadata": {},
   "source": [
    "FUNCIONES"
   ]
  },
  {
   "cell_type": "code",
   "execution_count": 2,
   "metadata": {},
   "outputs": [],
   "source": [
    "# Importacion y limpieza de los envios ya realizados.\n",
    "def YaEnviados (csvListos): \n",
    "    archivo = pd.read_csv(csvListos, skiprows=[1], dtype={'Nombre':str, 'Correo':str, 'Estado':float, 'Orden':float})\n",
    "    Limpio = archivo.drop_duplicates(subset='Correo', keep='first')\n",
    "    return(Limpio)\n",
    "\n",
    "# Importacion y limpieza de los correos por enviar.\n",
    "def PorEnviar(csvFaltantes):\n",
    "    Usuarios = pd.read_csv(csvFaltantes, skiprows=[1])\n",
    "    Usuarios.rename({'nombreEntidad': 'Entidad', 'contactosCorreoElectronicoOficina': 'Correo'}, axis=1, inplace=True)\n",
    "\n",
    "    Usuarios_Limpio = Usuarios.drop_duplicates(subset='Correo', keep='first')\n",
    "    Usuarios_Limpio.dropna(subset='Correo')    \n",
    "    return(Usuarios_Limpio)\n",
    "\n",
    "#Unir DF :\n",
    "def Uniones (tabla1, tabla2, Tipo):\n",
    "    Union = pd.merge(tabla1, tabla2, on='Correo', how=Tipo)\n",
    "    return(Union)\n",
    "\n",
    "#Concatenar DF:\n",
    "def concatenar (Tabla1, Tabla2, EliminarDuplicados):\n",
    "    Concatenadas = pd.concat([Tabla1,Tabla2])\n",
    "    if EliminarDuplicados == 1:\n",
    "        EliDup = Concatenadas.drop_duplicates(subset='Correo', keep=False, ignore_index=True)\n",
    "        return(EliDup)\n",
    "    else:\n",
    "        return(Concatenadas)\n",
    "    \n",
    "#Descargar DF:\n",
    "def Descargar (documento, nombre):\n",
    "    documento.to_csv(nombre, index=False, sep=',')"
   ]
  },
  {
   "cell_type": "markdown",
   "metadata": {},
   "source": [
    "CÓDIGO"
   ]
  },
  {
   "cell_type": "code",
   "execution_count": 3,
   "metadata": {},
   "outputs": [
    {
     "name": "stdout",
     "output_type": "stream",
     "text": [
      "725229\n"
     ]
    }
   ],
   "source": [
    "\"\"\"Importacion de BD\"\"\"\n",
    "Listos = YaEnviados('C:/Users/santi/OneDrive/Bureau/Trabajo/Marketing Digital/Bases de Datos/EnviosTodos.csv')\n",
    "Contactos = PorEnviar('C:/Users/santi/OneDrive/Bureau/Trabajo/Marketing Digital/Bases de Datos/CorreoTodos.csv')\n",
    "print(len(Contactos))"
   ]
  },
  {
   "cell_type": "code",
   "execution_count": 4,
   "metadata": {},
   "outputs": [
    {
     "name": "stdout",
     "output_type": "stream",
     "text": [
      "359770\n"
     ]
    }
   ],
   "source": [
    "# Combinar las consultas con el fin de saber cuales ya se han enviado y no repetir envios.\n",
    "Interna = Uniones(Listos,Contactos, 'inner')\n",
    "print(len(Interna))"
   ]
  },
  {
   "cell_type": "code",
   "execution_count": 5,
   "metadata": {},
   "outputs": [
    {
     "name": "stdout",
     "output_type": "stream",
     "text": [
      "365459\n"
     ]
    }
   ],
   "source": [
    "#Correos que faltan por mandar\n",
    "Pendiente = concatenar(Contactos,Interna, 1)\n",
    "print(len(Pendiente))"
   ]
  },
  {
   "cell_type": "code",
   "execution_count": 6,
   "metadata": {},
   "outputs": [
    {
     "name": "stdout",
     "output_type": "stream",
     "text": [
      "50000\n"
     ]
    }
   ],
   "source": [
    "#Nuevo envio\n",
    "nuevo = pd.DataFrame(Pendiente.head(50000))\n",
    "del nuevo['Nombre']\n",
    "print(len(nuevo))"
   ]
  },
  {
   "cell_type": "code",
   "execution_count": 7,
   "metadata": {},
   "outputs": [],
   "source": [
    "#Descarga del nuevo envio en formato csv\n",
    "Descargar(nuevo,\"C:\\\\Users\\\\santi\\\\OneDrive\\\\Bureau\\\\Trabajo\\\\Marketing Digital\\\\Bases de Datos\\\\Envios\\\\Octubre.csv\")"
   ]
  },
  {
   "cell_type": "code",
   "execution_count": 8,
   "metadata": {},
   "outputs": [
    {
     "name": "stdout",
     "output_type": "stream",
     "text": [
      "493614\n"
     ]
    }
   ],
   "source": [
    "#Guardar los nuevos envios en la BD general de envios realizados\n",
    "NuevosListo = concatenar(Listos, nuevo, 1)\n",
    "print(len(NuevosListo))\n",
    "Descargar(NuevosListo, 'C:/Users/santi/OneDrive/Bureau/Trabajo/Marketing Digital/Bases de Datos/EnviosTodos.csv')"
   ]
  },
  {
   "cell_type": "code",
   "execution_count": 9,
   "metadata": {},
   "outputs": [
    {
     "name": "stdout",
     "output_type": "stream",
     "text": [
      "315459\n"
     ]
    }
   ],
   "source": [
    "#Eliminar los correos del nuevo envio a la BD de correos pendientes Y actualizar documento\n",
    "Actualizacion = concatenar(Pendiente,nuevo,1)\n",
    "print(len(Actualizacion))\n",
    "del Actualizacion['Nombre']\n",
    "del Actualizacion['Estado']\n",
    "del Actualizacion['Orden']\n",
    "del Actualizacion['Fecha']\n",
    "Descargar(Actualizacion,'C:/Users/santi/OneDrive/Bureau/Trabajo/Marketing Digital/Bases de Datos/CorreosTodos.csv')"
   ]
  },
  {
   "cell_type": "markdown",
   "metadata": {},
   "source": [
    "PRUEBAS"
   ]
  }
 ],
 "metadata": {
  "kernelspec": {
   "display_name": "Python 3.10.4 64-bit",
   "language": "python",
   "name": "python3"
  },
  "language_info": {
   "codemirror_mode": {
    "name": "ipython",
    "version": 3
   },
   "file_extension": ".py",
   "mimetype": "text/x-python",
   "name": "python",
   "nbconvert_exporter": "python",
   "pygments_lexer": "ipython3",
   "version": "3.10.4"
  },
  "orig_nbformat": 4,
  "vscode": {
   "interpreter": {
    "hash": "0500ee97a5acf692a3fae68c042a7fe2448beaab5db2844a869d8b9e06d99759"
   }
  }
 },
 "nbformat": 4,
 "nbformat_minor": 2
}
