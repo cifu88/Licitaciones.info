{
 "cells": [
  {
   "cell_type": "markdown",
   "metadata": {},
   "source": [
    "TAREAS: \n",
    " 1.  Asignar el orden de envio a los nuevos correos que se van a enviar.\n",
    " 2.  Función que permita solo asignar el número inicial y el número de correos por número.\n",
    " 3.  Mostrar el rango de orden del envio."
   ]
  }
 ],
 "metadata": {
  "kernelspec": {
   "display_name": "Python 3.10.4 64-bit",
   "language": "python",
   "name": "python3"
  },
  "language_info": {
   "name": "python",
   "version": "3.10.4"
  },
  "orig_nbformat": 4,
  "vscode": {
   "interpreter": {
    "hash": "0500ee97a5acf692a3fae68c042a7fe2448beaab5db2844a869d8b9e06d99759"
   }
  }
 },
 "nbformat": 4,
 "nbformat_minor": 2
}
