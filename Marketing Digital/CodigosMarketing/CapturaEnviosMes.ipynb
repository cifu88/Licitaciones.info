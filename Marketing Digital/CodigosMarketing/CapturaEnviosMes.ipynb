{
 "cells": [
  {
   "cell_type": "code",
   "execution_count": 153,
   "metadata": {},
   "outputs": [
    {
     "name": "stderr",
     "output_type": "stream",
     "text": [
      "c:\\Users\\santi\\OneDrive\\Bureau\\Trabajo\\Licitaciones.info\\Marketing Digital\\CodigosMarketing\\AutomatizacionCorreos.ipynb:19: DtypeWarning: Columns (5) have mixed types. Specify dtype option on import or set low_memory=False.\n",
      "  \"execution_count\": 16,\n"
     ]
    }
   ],
   "source": [
    "Listos = YaEnviados('C:/Users/santi/OneDrive/Bureau/Trabajo/Licitaciones.info/Marketing Digital/Bases de Datos/EnviosTodos.csv')\n",
    "del Listos['Entidad']"
   ]
  },
  {
   "cell_type": "markdown",
   "metadata": {},
   "source": [
    "Inicia la búsqueda de procesos"
   ]
  },
  {
   "cell_type": "code",
   "execution_count": 154,
   "metadata": {},
   "outputs": [],
   "source": [
    "EneroA = Listos[Listos['Orden'] <= 10.0]\n",
    "Enero = pd.DataFrame(EneroA)\n",
    "\n",
    "Descargar(Enero, 'C:/Users/santi/OneDrive/Bureau/Trabajo/Licitaciones.info/Marketing Digital/Bases de Datos/Envios/Enero.csv')\n",
    "FebreroA = Listos[(Listos['Orden'] <= 20.0) & (Listos['Orden'] > 10.0)]\n",
    "Febrero = pd.DataFrame(FebreroA)\n",
    "\n",
    "Descargar(Febrero, 'C:/Users/santi/OneDrive/Bureau/Trabajo/Licitaciones.info/Marketing Digital/Bases de Datos/Envios/Febrero.csv')\n",
    "MarzoA = Listos[(Listos['Orden'] <= 26.0) & (Listos['Orden'] > 20.0)]\n",
    "Marzo = pd.DataFrame(MarzoA)\n",
    "\n",
    "Descargar(Marzo, 'C:/Users/santi/OneDrive/Bureau/Trabajo/Licitaciones.info/Marketing Digital/Bases de Datos/Envios/Marzo.csv')\n",
    "MayoA = Listos[(Listos['Orden'] <= 37.0) & (Listos['Orden'] > 26.0)]\n",
    "Mayo = pd.DataFrame(MayoA)\n",
    "\n",
    "Descargar(Mayo, 'C:/Users/santi/OneDrive/Bureau/Trabajo/Licitaciones.info/Marketing Digital/Bases de Datos/Envios/Mayo.csv')\n",
    "JulioA = Listos[(Listos['Orden'] <= 48.0) & (Listos['Orden'] > 37.0)]\n",
    "Julio = pd.DataFrame(JulioA)\n",
    "\n",
    "Descargar(Julio, 'C:/Users/santi/OneDrive/Bureau/Trabajo/Licitaciones.info/Marketing Digital/Bases de Datos/Envios/Julio.csv')\n",
    "AgostoA = Listos[(Listos['Orden'] <= 59.0) & (Listos['Orden'] > 49.0)]\n",
    "Agosto = pd.DataFrame(AgostoA)\n",
    "\n",
    "Descargar(Agosto, 'C:/Users/santi/OneDrive/Bureau/Trabajo/Licitaciones.info/Marketing Digital/Bases de Datos/Envios/Agosto.csv')\n",
    "SeptiembreA = Listos[(Listos['Orden'] <= 76.0) & (Listos['Orden'] > 59.0)]\n",
    "Septiembre = pd.DataFrame(SeptiembreA)\n",
    "\n",
    "Descargar(Septiembre, 'C:/Users/santi/OneDrive/Bureau/Trabajo/Licitaciones.info/Marketing Digital/Bases de Datos/Envios/Septiembre.csv')"
   ]
  }
 ],
 "metadata": {
  "kernelspec": {
   "display_name": "Python 3.10.4 64-bit",
   "language": "python",
   "name": "python3"
  },
  "language_info": {
   "codemirror_mode": {
    "name": "ipython",
    "version": 3
   },
   "file_extension": ".py",
   "mimetype": "text/x-python",
   "name": "python",
   "nbconvert_exporter": "python",
   "pygments_lexer": "ipython3",
   "version": "3.10.4"
  },
  "orig_nbformat": 4,
  "vscode": {
   "interpreter": {
    "hash": "0500ee97a5acf692a3fae68c042a7fe2448beaab5db2844a869d8b9e06d99759"
   }
  }
 },
 "nbformat": 4,
 "nbformat_minor": 2
}
